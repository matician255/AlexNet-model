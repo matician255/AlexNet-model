{
  "nbformat": 4,
  "nbformat_minor": 0,
  "metadata": {
    "colab": {
      "provenance": [],
      "authorship_tag": "ABX9TyOWToUeT+8yrqZWsVMiGTZu",
      "include_colab_link": true
    },
    "kernelspec": {
      "name": "python3",
      "display_name": "Python 3"
    },
    "language_info": {
      "name": "python"
    }
  },
  "cells": [
    {
      "cell_type": "markdown",
      "metadata": {
        "id": "view-in-github",
        "colab_type": "text"
      },
      "source": [
        "<a href=\"https://colab.research.google.com/github/matician255/AlexNet-model/blob/main/AlexNet_model.ipynb\" target=\"_parent\"><img src=\"https://colab.research.google.com/assets/colab-badge.svg\" alt=\"Open In Colab\"/></a>"
      ]
    },
    {
      "cell_type": "markdown",
      "source": [
        "IMPLEMENTATION OF THE IMAGENET CLASSIFICATION USING DEEP CNN"
      ],
      "metadata": {
        "id": "izb3yoC5fwVY"
      }
    },
    {
      "cell_type": "code",
      "source": [
        "import tensorflow as tf\n",
        "from tensorflow.keras import layers, models, optimizers, regularizers\n",
        "from tensorflow.keras.datasets import IMAGENET\n",
        "from tensorflow.keras.utils import to_categorical\n",
        "\n",
        "# Load and preprocess the IMAGENET dataset\n",
        "def load_and_preprocess_data():\n",
        "    (x_train, y_train), (x_test, y_test) = IMAGENET.load_data()\n",
        "\n",
        "    # Normalize pixel values to [0, 1]\n",
        "    x_train = x_train.astype('float32') / 255.0\n",
        "    x_test = x_test.astype('float32') / 255.0\n",
        "\n",
        "    # One-hot encode labels\n",
        "    y_train = to_categorical(y_train, 10)\n",
        "    y_test = to_categorical(y_test, 10)\n",
        "\n",
        "    return x_train, y_train, x_test, y_test\n",
        "\n",
        "# Define the AlexNet model\n",
        "def build_alexnet(input_shape=(227, 227, 3), num_classes=10):\n",
        "    model = models.Sequential([\n",
        "        # Layer 1: Convolutional + ReLU + MaxPooling\n",
        "        layers.Conv2D(96, (11, 11), strides=(4, 4), activation='relu', input_shape=input_shape),\n",
        "        layers.BatchNormalization(),\n",
        "        layers.MaxPooling2D((3, 3), strides=(2, 2)),\n",
        "\n",
        "        # Layer 2: Convolutional + ReLU + MaxPooling\n",
        "        layers.Conv2D(256, (5, 5), padding='same', activation='relu'),\n",
        "        layers.BatchNormalization(),\n",
        "        layers.MaxPooling2D((3, 3), strides=(2, 2)),\n",
        "\n",
        "        # Layer 3: Convolutional + ReLU\n",
        "        layers.Conv2D(384, (3, 3), padding='same', activation='relu'),\n",
        "\n",
        "        # Layer 4: Convolutional + ReLU\n",
        "        layers.Conv2D(384, (3, 3), padding='same', activation='relu'),\n",
        "\n",
        "        # Layer 5: Convolutional + ReLU + MaxPooling\n",
        "        layers.Conv2D(256, (3, 3), padding='same', activation='relu'),\n",
        "        layers.MaxPooling2D((3, 3), strides=(2, 2)),\n",
        "\n",
        "        # Flatten the output for fully connected layers\n",
        "        layers.Flatten(),\n",
        "\n",
        "        # Layer 6: Fully Connected + ReLU + Dropout\n",
        "        layers.Dense(4096, activation='relu'),\n",
        "        layers.Dropout(0.5),\n",
        "\n",
        "        # Layer 7: Fully Connected + ReLU + Dropout\n",
        "        layers.Dense(4096, activation='relu'),\n",
        "        layers.Dropout(0.5),\n",
        "\n",
        "        # Output Layer: Fully Connected + Softmax\n",
        "        layers.Dense(num_classes, activation='softmax')\n",
        "    ])\n",
        "\n",
        "    return model\n",
        "\n",
        "# Compile the model\n",
        "def compile_model(model):\n",
        "    model.compile(\n",
        "        optimizer=optimizers.Adam(learning_rate=0.001),\n",
        "        loss='categorical_crossentropy',\n",
        "        metrics=['accuracy']\n",
        "    )\n",
        "    return model\n",
        "\n",
        "# Train the model\n",
        "def train_model(model, x_train, y_train, x_test, y_test, epochs=10, batch_size=128):\n",
        "    history = model.fit(\n",
        "        x_train, y_train,\n",
        "        validation_data=(x_test, y_test),\n",
        "        epochs=epochs,\n",
        "        batch_size=batch_size,\n",
        "        verbose=1\n",
        "    )\n",
        "    return history\n",
        "\n",
        "# Main function to run the AlexNet pipeline\n",
        "def main():\n",
        "    # Load and preprocess data\n",
        "    x_train, y_train, x_test, y_test = load_and_preprocess_data()\n",
        "\n",
        "    # Build the AlexNet model\n",
        "    model = build_alexnet()\n",
        "    model = compile_model(model)\n",
        "\n",
        "    # Print model summary\n",
        "    model.summary()\n",
        "\n",
        "    # Train the model\n",
        "    history = train_model(model, x_train, y_train, x_test, y_test, epochs=10, batch_size=128)\n",
        "\n",
        "    # Evaluate the model\n",
        "    test_loss, test_acc = model.evaluate(x_test, y_test, verbose=2)\n",
        "    print(f\"\\nTest Accuracy: {test_acc:.4f}\")\n"
      ],
      "metadata": {
        "id": "1ERgIBu-ZcMl"
      },
      "execution_count": null,
      "outputs": []
    }
  ]
}